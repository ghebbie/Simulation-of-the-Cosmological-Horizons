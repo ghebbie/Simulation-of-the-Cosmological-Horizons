{
 "cells": [
  {
   "cell_type": "code",
   "execution_count": 1,
   "metadata": {},
   "outputs": [
    {
     "name": "stderr",
     "output_type": "stream",
     "text": [
      "/home/gustav/anaconda3/lib/python3.7/site-packages/numpy/core/numeric.py:501: ComplexWarning: Casting complex values to real discards the imaginary part\n",
      "  return array(a, dtype, copy=False, order=order)\n"
     ]
    },
    {
     "data": {
      "text/plain": [
       "<Figure size 640x480 with 1 Axes>"
      ]
     },
     "metadata": {},
     "output_type": "display_data"
    }
   ],
   "source": [
    "# Code is like a joke: If you have to explain it, it's not very good.\n",
    "# But just in case my programming is as good as my comedy, I've made sure to explain everything thouroughly\n",
    "\n",
    "import numpy as np\n",
    "import matplotlib.pyplot as plt\n",
    "\n",
    "H0 = 70/(3.08567758e19) * 31556926 # years^-1 # All the numbers are just to get to the right units\n",
    "Omega_gamma = 9e-5\n",
    "Omega_matter = 0.308\n",
    "Omega_Lambda = 0.692\n",
    "T = 13.77e9 # years # The age of the universe\n",
    "dt = 1e6 # years # If your dt is too big, the scale factor will dive into the negatives, and you might get an error message saying that you can't use complex values here\n",
    "# An array will not only be hard on your CPU, but also on your RAM, so this program requires a pretty good computer\n",
    "\n",
    "\n",
    "def Fried(y): # just so we don't confuse our variables, we will call the input of our differential equation y:\n",
    "    dydt = H0*(Omega_gamma*((y)**(-2)) + Omega_matter*((y)**(-1)) + Omega_Lambda)**(1/2) # The Friedmann Equation\n",
    "    return dydt\n",
    "\n",
    "tn = 0 # We start at the beginning of the universe\n",
    "t = [tn] # In this program, we use arrays as variables and functions\n",
    "\n",
    "while t[-1] < T: # Here, we just create a list of time-points throughout hte history of the universe\n",
    "    tn += dt\n",
    "    t.append(tn)\n",
    "\n",
    "an = 1\n",
    "a = [an]\n",
    "\n",
    "# Since our starting condition for a is when the age of the universe is 13.77 billion years (right now), we will start there, and evolve backwards in time\n",
    "\n",
    "for i in t: # we're going forwards in time here. But this is only because it doesn't matter wether we go forwards or backwards, and it saves some time when we don't go in reverse\n",
    "    if i==0:\n",
    "        pass # Because we already have our first value\n",
    "    else:\n",
    "        an -= Fried(an) * dt # The minus is because we're going backwards\n",
    "        a.insert(0,an) # Instead of appending, we insert at the beginning because we're making the list backwards\n",
    "\n",
    "plt.plot(t,a) # MatPlotLib plots two lists\n",
    "plt.xlabel('t')\n",
    "plt.ylabel('a(t)')\n",
    "plt.show()\n"
   ]
  },
  {
   "cell_type": "code",
   "execution_count": null,
   "metadata": {},
   "outputs": [],
   "source": [
    "# Particle Horizon rP:\n",
    "# Here we use the following integral:\n",
    "#\n",
    "#      / t\n",
    "#     |\n",
    "#     |     dt\n",
    "# c * |   ------\n",
    "#     |    a(t)\n",
    "#     |\n",
    "#    /  0\n",
    "\n",
    "# Which we do numerically:\n",
    "\n",
    "rP = [] # Radius of the Particle Horizon over time\n",
    "\n",
    "for i in range(len(a)):\n",
    "    rn=0 # Resetting the value\n",
    "    for j in a[0:i]:\n",
    "        rn += j*dt # I've removed c and we measure dt in years, so the graph will automatically be in lightyears\n",
    "    rP.append(rn)\n",
    "\n",
    "plt.plot(t,rP)\n",
    "plt.xlabel('t')\n",
    "plt.ylabel('Particle Horizon (ly)')\n",
    "plt.show()\n"
   ]
  },
  {
   "cell_type": "code",
   "execution_count": null,
   "metadata": {},
   "outputs": [],
   "source": [
    "# Hubble Horizon rH:\n",
    "# dHS = c/H(t)\n",
    "# Remember: H(t) = a'(t)/a(t) and a'(t) was just Fried(a)\n",
    "\n",
    "rH = [] # Radius of the Hubble Horizon over time\n",
    "\n",
    "for i in a:\n",
    "    rn = i/Fried(i) # Meassured in light years of course\n",
    "    rH.append(rn)\n",
    "\n",
    "plt.plot(t,rH)\n",
    "plt.xlabel('t')\n",
    "plt.ylabel('Hubble Horizon (ly)')\n",
    "plt.show()\n",
    "\n",
    "#For comparison:\n",
    "\n",
    "print(rH[-1]) # Our calculation\n",
    "print(1/H0) # VS The actual value"
   ]
  },
  {
   "cell_type": "code",
   "execution_count": 17,
   "metadata": {},
   "outputs": [
    {
     "ename": "KeyboardInterrupt",
     "evalue": "",
     "output_type": "error",
     "traceback": [
      "\u001b[0;31m---------------------------------------------------------------------------\u001b[0m",
      "\u001b[0;31mKeyboardInterrupt\u001b[0m                         Traceback (most recent call last)",
      "\u001b[0;32m<ipython-input-17-503aa521ba5e>\u001b[0m in \u001b[0;36m<module>\u001b[0;34m\u001b[0m\n\u001b[1;32m     33\u001b[0m     \u001b[0mdn\u001b[0m\u001b[0;34m=\u001b[0m\u001b[0;36m0\u001b[0m\u001b[0;34m\u001b[0m\u001b[0;34m\u001b[0m\u001b[0m\n\u001b[1;32m     34\u001b[0m     \u001b[0;32mfor\u001b[0m \u001b[0mj\u001b[0m \u001b[0;32min\u001b[0m \u001b[0ma\u001b[0m\u001b[0;34m[\u001b[0m\u001b[0mi\u001b[0m\u001b[0;34m:\u001b[0m\u001b[0;34m]\u001b[0m\u001b[0;34m:\u001b[0m \u001b[0;31m# Fra tidspunktet og frem\u001b[0m\u001b[0;34m\u001b[0m\u001b[0;34m\u001b[0m\u001b[0m\n\u001b[0;32m---> 35\u001b[0;31m         \u001b[0mdn\u001b[0m \u001b[0;34m+=\u001b[0m \u001b[0mj\u001b[0m\u001b[0;34m*\u001b[0m\u001b[0mdt\u001b[0m \u001b[0;31m# Så måler vi det i lysår, da jeg har fjernet c, og dt måles i år\u001b[0m\u001b[0;34m\u001b[0m\u001b[0;34m\u001b[0m\u001b[0m\n\u001b[0m\u001b[1;32m     36\u001b[0m     \u001b[0mdE\u001b[0m\u001b[0;34m.\u001b[0m\u001b[0mappend\u001b[0m\u001b[0;34m(\u001b[0m\u001b[0mdn\u001b[0m\u001b[0;34m*\u001b[0m\u001b[0mi\u001b[0m\u001b[0;34m)\u001b[0m\u001b[0;34m\u001b[0m\u001b[0;34m\u001b[0m\u001b[0m\n\u001b[1;32m     37\u001b[0m \u001b[0;34m\u001b[0m\u001b[0m\n",
      "\u001b[0;31mKeyboardInterrupt\u001b[0m: "
     ]
    }
   ],
   "source": [
    "# Event Horizon rE:\n",
    "# Here we use the integral:\n",
    "#\n",
    "#             / t_max\n",
    "#            |\n",
    "#            |     dt\n",
    "# a(t) * c * |   ------\n",
    "#            |    a(t)\n",
    "#            |\n",
    "#           /  t\n",
    "\n",
    "# T_max is when the universe ends, which it doesn't do in our model, so we will go towards infinity by using a big number\n",
    "\n",
    "# Which we du numerically:\n",
    "\n",
    "# Here we expand the time we're looking at so it becomes \n",
    "\n",
    "tn = t[-1]\n",
    "now = len(t) # This is the index of the time list that corresponds to now\n",
    "t_max = 1e12 # This is our big number\n",
    "\n",
    "while t[-1] < 1e12:\n",
    "    tn += dt\n",
    "    t.append(tn) # If your RAM can handle this, it should be able to do the rest of the program\n",
    "\n",
    "an = 1\n",
    "\n",
    "# Then we evolve the scale factor again:\n",
    "\n",
    "for i in t[now+1:]:\n",
    "        an += Fried(an) * dt\n",
    "        a.append(an)\n",
    "\n",
    "\n",
    "rE = [] # radius of the Particle horzion over time\n",
    "\n",
    "for i in range(len(a[0:tstart])): # We'll only look at the evolution up until now\n",
    "    rn=0\n",
    "    for j in a[i:]: # From the time we're looking at, and onward\n",
    "        rn += j*dt # Again, we meassure it in light years\n",
    "    rE.append(dn*a[i])\n",
    "\n",
    "plt.plot(t[0:now],rE)\n",
    "plt.xlabel('t')\n",
    "plt.ylabel('Event Horizon (ly)')\n",
    "plt.show()"
   ]
  },
  {
   "cell_type": "code",
   "execution_count": null,
   "metadata": {},
   "outputs": [],
   "source": []
  }
 ],
 "metadata": {
  "kernelspec": {
   "display_name": "Python 3",
   "language": "python",
   "name": "python3"
  },
  "language_info": {
   "codemirror_mode": {
    "name": "ipython",
    "version": 3
   },
   "file_extension": ".py",
   "mimetype": "text/x-python",
   "name": "python",
   "nbconvert_exporter": "python",
   "pygments_lexer": "ipython3",
   "version": "3.7.1"
  }
 },
 "nbformat": 4,
 "nbformat_minor": 2
}
